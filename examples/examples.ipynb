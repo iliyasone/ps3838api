{
 "cells": [
  {
   "cell_type": "markdown",
   "metadata": {},
   "source": [
    "# Examples"
   ]
  },
  {
   "cell_type": "markdown",
   "metadata": {},
   "source": [
    "## Set up"
   ]
  },
  {
   "cell_type": "code",
   "execution_count": null,
   "metadata": {},
   "outputs": [],
   "source": [
    "import os\n",
    "\n",
    "os.environ[\"PS3838_LOGIN\"] = \"your_username\"\n",
    "os.environ[\"PS3838_PASSWORD\"] = \"your_password\""
   ]
  },
  {
   "cell_type": "code",
   "execution_count": null,
   "metadata": {},
   "outputs": [],
   "source": [
    "import ps3838api.api as ps\n",
    "\n",
    "ps.get_client_balance()"
   ]
  },
  {
   "cell_type": "markdown",
   "metadata": {},
   "source": [
    "## Retrieve Event And Place Bet"
   ]
  },
  {
   "cell_type": "code",
   "execution_count": 1,
   "metadata": {},
   "outputs": [],
   "source": [
    "league = 'Russia - Cup'\n",
    "home = 'Lokomotiv Moscow'\n",
    "away = 'Akhmat Grozny'"
   ]
  },
  {
   "cell_type": "code",
   "execution_count": 6,
   "metadata": {},
   "outputs": [],
   "source": [
    "fixtures = ps.get_fixtures()\n",
    "# sport_id: int = SOCCER_SPORT_ID by defauly"
   ]
  },
  {
   "cell_type": "code",
   "execution_count": null,
   "metadata": {},
   "outputs": [],
   "source": [
    "from ps3838api.matching import magic_find_event\n",
    "\n",
    "\n",
    "event = magic_find_event(fixtures, league, home, away)\n",
    "print(event)\n",
    "# {'eventId': 1607937909, 'leagueId': 2409}"
   ]
  },
  {
   "cell_type": "code",
   "execution_count": 9,
   "metadata": {},
   "outputs": [],
   "source": [
    "assert isinstance(event, dict) # also could be Failure\n",
    "\n",
    "from ps3838api.logic import filter_odds\n",
    "\n",
    "odds_response = ps.get_odds()\n",
    "\n",
    "odds_eventV3 = filter_odds(odds_response, event_id=event['eventId'])"
   ]
  },
  {
   "cell_type": "code",
   "execution_count": null,
   "metadata": {},
   "outputs": [],
   "source": [
    "assert isinstance(odds_eventV3, dict) # also may be `NoSuchOddsAvailable`\n",
    "\n",
    "from ps3838api.totals import get_best_total_line\n",
    "\n",
    "total_line = get_best_total_line(odds_eventV3)\n",
    "print(total_line)"
   ]
  },
  {
   "cell_type": "markdown",
   "metadata": {},
   "source": [
    "```json\n",
    "{\n",
    "    \"points\": 4.5,\n",
    "    \"over\": 2.08,\n",
    "    \"under\": 1.775,\n",
    "    \"lineId\": 3058623866,\n",
    "    \"max\": 3750.0\n",
    "}\n",
    "```"
   ]
  },
  {
   "cell_type": "code",
   "execution_count": 48,
   "metadata": {},
   "outputs": [],
   "source": [
    "assert isinstance(event, dict) # also could be Failure\n",
    "assert total_line is not None \n",
    "\n",
    "import ps3838api.api as ps\n",
    "\n",
    "stake_usdt = 1.0\n",
    "\n",
    "place_bet_response = ps.place_straigh_bet(\n",
    "    stake=stake_usdt,\n",
    "    event_id=event['eventId'],\n",
    "    bet_type='TOTAL_POINTS',\n",
    "    line_id=total_line.get('lineId', None),\n",
    "    alt_line_id=total_line.get('altLineId', None),\n",
    "    side='OVER',\n",
    "    handicap=total_line['points']\n",
    "    \n",
    ")\n",
    "place_bet_response['uniqueRequestId']"
   ]
  },
  {
   "cell_type": "code",
   "execution_count": null,
   "metadata": {},
   "outputs": [],
   "source": [
    "bets = ps.get_bets(unique_request_ids=[place_bet_response['uniqueRequestId'], ])\n",
    "# check the bet status"
   ]
  }
 ],
 "metadata": {
  "kernelspec": {
   "display_name": ".venv",
   "language": "python",
   "name": "python3"
  },
  "language_info": {
   "codemirror_mode": {
    "name": "ipython",
    "version": 3
   },
   "file_extension": ".py",
   "mimetype": "text/x-python",
   "name": "python",
   "nbconvert_exporter": "python",
   "pygments_lexer": "ipython3",
   "version": "3.12.10"
  }
 },
 "nbformat": 4,
 "nbformat_minor": 2
}
