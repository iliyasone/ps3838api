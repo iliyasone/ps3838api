{
 "cells": [
  {
   "cell_type": "code",
   "execution_count": 1,
   "metadata": {},
   "outputs": [],
   "source": [
    "import ps3838api.api as ps"
   ]
  },
  {
   "cell_type": "code",
   "execution_count": 2,
   "metadata": {},
   "outputs": [
    {
     "data": {
      "text/plain": [
       "{'availableBalance': 2242.47,\n",
       " 'outstandingTransactions': 0.0,\n",
       " 'givenCredit': 0.0,\n",
       " 'currency': 'USD'}"
      ]
     },
     "execution_count": 2,
     "metadata": {},
     "output_type": "execute_result"
    }
   ],
   "source": [
    "ps.get_client_balance()"
   ]
  },
  {
   "cell_type": "code",
   "execution_count": 3,
   "metadata": {},
   "outputs": [],
   "source": [
    "import ps3838api.tank as tank\n",
    "\n",
    "eventMatcher = tank.EventMatcher()"
   ]
  },
  {
   "cell_type": "code",
   "execution_count": 4,
   "metadata": {},
   "outputs": [
    {
     "name": "stdout",
     "output_type": "stream",
     "text": [
      "event founded\n",
      "updating odds\n"
     ]
    },
    {
     "data": {
      "text/plain": [
       "{'id': 1605863576,\n",
       " 'periods': [{'lineId': 3020273891,\n",
       "   'number': 0,\n",
       "   'cutoff': '2025-03-31T18:45:00Z',\n",
       "   'spreadUpdatedAt': '2025-03-31T18:44:07.350Z',\n",
       "   'moneylineUpdatedAt': '2025-03-31T18:44:07.350Z',\n",
       "   'totalUpdatedAt': '2025-03-31T18:44:07.350Z',\n",
       "   'teamTotalUpdatedAt': '2025-03-31T18:44:07.350Z',\n",
       "   'status': 1},\n",
       "  {'lineId': 3020389622,\n",
       "   'number': 1,\n",
       "   'cutoff': '2025-03-31T18:45:00Z',\n",
       "   'spreadUpdatedAt': '2025-03-31T18:44:07.413Z',\n",
       "   'moneylineUpdatedAt': '2025-03-31T18:44:07.413Z',\n",
       "   'totalUpdatedAt': '2025-03-31T18:44:07.413Z',\n",
       "   'teamTotalUpdatedAt': '2025-03-31T18:44:07.413Z',\n",
       "   'status': 2}]}"
      ]
     },
     "execution_count": 4,
     "metadata": {},
     "output_type": "execute_result"
    }
   ],
   "source": [
    "result = eventMatcher.get_odds('Italy Serie A', 'Lazio', 'Torino')\n",
    "result"
   ]
  },
  {
   "cell_type": "code",
   "execution_count": 6,
   "metadata": {},
   "outputs": [
    {
     "data": {
      "text/plain": [
       "NoSuchLeagueMatching(league='Republic of Ireland First Division')"
      ]
     },
     "execution_count": 6,
     "metadata": {},
     "output_type": "execute_result"
    }
   ],
   "source": [
    "result = eventMatcher.get_odds('Republic of Ireland First Division', 'UCD', 'Bray Wanderers')\n",
    "result"
   ]
  },
  {
   "cell_type": "code",
   "execution_count": 7,
   "metadata": {},
   "outputs": [
    {
     "name": "stdout",
     "output_type": "stream",
     "text": [
      "event founded\n",
      "updating odds\n"
     ]
    },
    {
     "data": {
      "text/plain": [
       "{'id': 1606273674,\n",
       " 'periods': [{'lineId': 3020276281,\n",
       "   'number': 0,\n",
       "   'cutoff': '2025-03-31T18:43:59Z',\n",
       "   'spreadUpdatedAt': '2025-03-31T18:42:19.413Z',\n",
       "   'moneylineUpdatedAt': '2025-03-31T18:42:19.413Z',\n",
       "   'totalUpdatedAt': '2025-03-31T18:42:19.413Z',\n",
       "   'teamTotalUpdatedAt': '2025-03-31T18:42:19.413Z',\n",
       "   'status': 1},\n",
       "  {'lineId': 3020386301,\n",
       "   'number': 1,\n",
       "   'cutoff': '2025-03-31T18:43:58Z',\n",
       "   'spreadUpdatedAt': '2025-03-31T18:42:19.413Z',\n",
       "   'moneylineUpdatedAt': '2025-03-31T18:42:19.413Z',\n",
       "   'totalUpdatedAt': '2025-03-31T18:42:19.413Z',\n",
       "   'teamTotalUpdatedAt': '2025-03-31T18:42:19.413Z',\n",
       "   'status': 2}]}"
      ]
     },
     "execution_count": 7,
     "metadata": {},
     "output_type": "execute_result"
    }
   ],
   "source": [
    "result = eventMatcher.get_odds('France Ligue 2', 'Paris FC', 'Caen')\n",
    "result"
   ]
  },
  {
   "cell_type": "code",
   "execution_count": null,
   "metadata": {},
   "outputs": [],
   "source": [
    "not_live_odds = ps.get_odds(sport_id=ps.SOCCER_SPORT_ID)\n",
    "tank.filter_odds(not_live_odds, event_id=1606273674)"
   ]
  },
  {
   "cell_type": "code",
   "execution_count": 30,
   "metadata": {},
   "outputs": [],
   "source": [
    "import json\n",
    "\n",
    "\n",
    "with open('examples/live_odds.json', 'w') as file:\n",
    "    json.dump(eventMatcher.odds.data, file, indent=4)"
   ]
  },
  {
   "cell_type": "code",
   "execution_count": 33,
   "metadata": {},
   "outputs": [],
   "source": [
    "import json\n",
    "\n",
    "\n",
    "with open('examples/fixtures.json', 'w') as file:\n",
    "    json.dump(eventMatcher.fixtures.data, file, indent=4)"
   ]
  },
  {
   "cell_type": "code",
   "execution_count": 16,
   "metadata": {},
   "outputs": [],
   "source": [
    "from typing import TypedDict\n",
    "import json\n",
    "\n",
    "\n",
    "class MatchedLeague(TypedDict):\n",
    "    betsapi_league: str\n",
    "    ps3838_league: str | None\n",
    "    ps3838_id: int | None"
   ]
  },
  {
   "cell_type": "code",
   "execution_count": 17,
   "metadata": {},
   "outputs": [],
   "source": [
    "with open('out/matched_leagues.json') as file:\n",
    "    data: list[MatchedLeague] = json.load(file)"
   ]
  },
  {
   "cell_type": "code",
   "execution_count": null,
   "metadata": {},
   "outputs": [],
   "source": [
    "england_championship = data[0]\n",
    "england_championship"
   ]
  },
  {
   "cell_type": "code",
   "execution_count": 3,
   "metadata": {},
   "outputs": [],
   "source": [
    "ps3838_leagues_id: list[int] = [x['ps3838_id'] for x in data if x['ps3838_id']]"
   ]
  },
  {
   "cell_type": "code",
   "execution_count": 19,
   "metadata": {},
   "outputs": [],
   "source": [
    "import ps3838api.api as ps\n",
    "\n",
    "response = ps.get_odds(ps.SOCCER_SPORT_ID, is_live=True) # type: ignore "
   ]
  },
  {
   "cell_type": "code",
   "execution_count": null,
   "metadata": {},
   "outputs": [],
   "source": [
    "response"
   ]
  },
  {
   "cell_type": "code",
   "execution_count": 8,
   "metadata": {},
   "outputs": [],
   "source": [
    "with open('examples/get_odds.json', 'w') as file:\n",
    "    json.dump(response, file, indent=4)"
   ]
  },
  {
   "cell_type": "code",
   "execution_count": null,
   "metadata": {},
   "outputs": [],
   "source": [
    "from models.odds import OddsResponse\n",
    "\n",
    "def find_over_bets(odds_data: OddsResponse) -> None:\n",
    "    for league in odds_data[\"leagues\"]:\n",
    "        league_id = league[\"id\"]\n",
    "        for event in league[\"events\"]:\n",
    "            event_id = event[\"id\"]\n",
    "            for period in event[\"periods\"]:\n",
    "                # 'status' == 1 indicates \"online\" (open for betting)\n",
    "                if period[\"status\"] == 1:  \n",
    "                    # 'totals' is a list of possible Over/Under lines\n",
    "                    for total_line in period[\"totals\"]:\n",
    "                        # total_line is an OddsTotalV3\n",
    "                        # total_line = cast(OddsTotalV3, total_line)\n",
    "                        points = total_line[\"points\"]    # e.g. 2.5\n",
    "                        over_odds = total_line[\"over\"]   # e.g. 1.87 (decimal)\n",
    "                        under_odds = total_line[\"under\"] # e.g. 1.95 (decimal)\n",
    "\n",
    "                        # If you want to specifically look for an Over 2.5 line, for instance:\n",
    "                        # if points == 2.5:\n",
    "                        if \"altLineId\" in total_line:\n",
    "                            line_id = total_line[\"altLineId\"]\n",
    "                        else:\n",
    "                            line_id = ''\n",
    "                        print(\n",
    "                            f\"League={league_id}, Event={event_id}, {line_id=}\"\n",
    "                            f\"Period={period['number']} => Over {points} @ {over_odds} \"\n",
    "                            f\"(Under @ {under_odds})\"\n",
    "                        )\n",
    "                            # Then place bet with betType='TOTAL_POINTS', side='OVER', handicap=2.5, etc.\n",
    "\n",
    "\n",
    "find_over_bets(response)"
   ]
  },
  {
   "cell_type": "code",
   "execution_count": null,
   "metadata": {},
   "outputs": [],
   "source": [
    "ps.get_fixtures(ps.SOCCER_SPORT_ID, event_ids=[1606758261, ])"
   ]
  }
 ],
 "metadata": {
  "kernelspec": {
   "display_name": ".venv",
   "language": "python",
   "name": "python3"
  },
  "language_info": {
   "codemirror_mode": {
    "name": "ipython",
    "version": 3
   },
   "file_extension": ".py",
   "mimetype": "text/x-python",
   "name": "python",
   "nbconvert_exporter": "python",
   "pygments_lexer": "ipython3",
   "version": "3.12.6"
  }
 },
 "nbformat": 4,
 "nbformat_minor": 2
}
