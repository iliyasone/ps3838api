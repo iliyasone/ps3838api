{
 "cells": [
  {
   "cell_type": "markdown",
   "metadata": {},
   "source": [
    "## Time "
   ]
  },
  {
   "cell_type": "code",
   "execution_count": null,
   "metadata": {},
   "outputs": [],
   "source": [
    "import datetime\n",
    " \n",
    "dt_str = \"2025-04-06T11:30:00Z\"\n",
    "dt = datetime.datetime.fromisoformat(dt_str)\n",
    " \n",
    "print(dt.timestamp())  # вывод: 2009-05-28 16:15:00"
   ]
  },
  {
   "cell_type": "markdown",
   "metadata": {},
   "source": [
    "## Best matching"
   ]
  },
  {
   "cell_type": "code",
   "execution_count": 3,
   "metadata": {},
   "outputs": [],
   "source": [
    "# type: ignore \n",
    "import openpyxl\n",
    "wb = openpyxl.load_workbook('examples/sunday_top_leagues.xlsx')\n",
    "ws = wb.active\n",
    "\n",
    "bets_api_fixutres: list[tuple[str, str, str]] = []\n",
    "\n",
    "for row in ws.iter_rows(min_row=2, min_col=2, values_only=True):\n",
    "\n",
    "    leagueV3 = row[0]\n",
    "    home   = row[1]\n",
    "    away   = row[2]\n",
    "    bets_api_fixutres.append((leagueV3, home, away))"
   ]
  },
  {
   "cell_type": "code",
   "execution_count": 1,
   "metadata": {},
   "outputs": [],
   "source": [
    "import ps3838api.api as ps\n",
    "import ps3838api.tank as tank\n",
    "event_matcher = tank.EventMatcher()"
   ]
  },
  {
   "cell_type": "code",
   "execution_count": 4,
   "metadata": {},
   "outputs": [],
   "source": [
    "from ps3838api.models.event import Failure\n",
    "from ps3838api.tank import EventInfo\n",
    "\n",
    "\n",
    "matched_bets_api_events: list[Failure | EventInfo] = []\n",
    "for leagueV3, home, away in bets_api_fixutres:\n",
    "    matched_bets_api_events.append(\n",
    "        event_matcher.get_league_id_and_event_id(leagueV3, home, away, force_local=True))"
   ]
  },
  {
   "cell_type": "code",
   "execution_count": null,
   "metadata": {},
   "outputs": [],
   "source": [
    "from ps3838api.logic import find_event_by_id\n",
    "from rapidfuzz import fuzz\n",
    "\n",
    "result: list[tuple[float, str]] = []\n",
    "\n",
    "for event, (leagueV3, home, away) in zip(matched_bets_api_events, bets_api_fixutres):\n",
    "    if not isinstance(event, dict):\n",
    "        print('🚫', leagueV3, home, '-', away, event)\n",
    "        continue\n",
    "    fixtureV3 = find_event_by_id(event_matcher.fixtures.data, event)\n",
    "    assert fixtureV3 is not None\n",
    "    score_home = fuzz.token_set_ratio(home, fixtureV3.get(\"home\", \"\"))\n",
    "    score_away = fuzz.token_set_ratio(away, fixtureV3.get(\"away\", \"\"))\n",
    "    total_score = score_home + score_away\n",
    "    result.append((\n",
    "        total_score, \n",
    "        f'{home} -> {fixtureV3.get(\"home\", \"\")} | {away} -> {fixtureV3.get(\"away\", \"\")}'\n",
    "        )\n",
    "    )\n",
    "\n",
    "result.sort(key=lambda x: x[0])\n",
    "for line in result:\n",
    "    if line[0] // 2 > 75:\n",
    "        continue\n",
    "    print(line[0] // 2, '%', line[1])"
   ]
  },
  {
   "cell_type": "markdown",
   "metadata": {},
   "source": [
    "## Tank Playground"
   ]
  },
  {
   "cell_type": "code",
   "execution_count": 1,
   "metadata": {},
   "outputs": [],
   "source": [
    "from ps3838api.tank import EventMatcher, EventInfo\n",
    "\n",
    "\n",
    "event_matcher = EventMatcher(league_ids=None)\n"
   ]
  },
  {
   "cell_type": "code",
   "execution_count": 4,
   "metadata": {},
   "outputs": [],
   "source": [
    "league = 'Spain La Liga'\n",
    "home = 'Alaves'\n",
    "away = 'Real Madrid'"
   ]
  },
  {
   "cell_type": "code",
   "execution_count": null,
   "metadata": {},
   "outputs": [],
   "source": [
    "event_matcher.get_league_id_and_event_id(league, home, away)"
   ]
  },
  {
   "cell_type": "code",
   "execution_count": null,
   "metadata": {},
   "outputs": [],
   "source": [
    "from ps3838api.matching import magic_find_event\n",
    "\n",
    "\n",
    "event = magic_find_event(event_matcher.fixtures.data, league, home, away)\n",
    "\n",
    "assert isinstance(event, dict)\n",
    "\n",
    "event\n"
   ]
  },
  {
   "cell_type": "code",
   "execution_count": 50,
   "metadata": {},
   "outputs": [],
   "source": [
    "event_matcher.odds.is_live = True"
   ]
  },
  {
   "cell_type": "code",
   "execution_count": null,
   "metadata": {},
   "outputs": [],
   "source": [
    "assert isinstance(event, dict)\n",
    "\n",
    "odds = event_matcher.get_odds(event)\n",
    "odds"
   ]
  },
  {
   "cell_type": "code",
   "execution_count": null,
   "metadata": {},
   "outputs": [],
   "source": [
    "from ps3838api.logic import filter_odds\n",
    "\n",
    "\n",
    "odds_response_full = ps.get_odds(is_live=True)\n",
    "\n",
    "filter_odds(odds_response_full, event_id=event['eventId'])"
   ]
  },
  {
   "cell_type": "code",
   "execution_count": null,
   "metadata": {},
   "outputs": [],
   "source": [
    "odds_response_full"
   ]
  },
  {
   "cell_type": "code",
   "execution_count": 18,
   "metadata": {},
   "outputs": [],
   "source": [
    "with open('event_matcher.odds.data.json', 'w') as file:\n",
    "    json.dump(event_matcher.odds.data, file, indent=4)"
   ]
  },
  {
   "cell_type": "code",
   "execution_count": null,
   "metadata": {},
   "outputs": [],
   "source": [
    "import json\n",
    "\n",
    "with open('temp/responses/odds_snapshot_1744036330.json') as file:\n",
    "    odds_snapshot = json.load(file)\n",
    "\n",
    "with open('temp/responses/odds_delta_1744207459.json') as file:\n",
    "    odds_delta = json.load(file)\n",
    "\n",
    "from ps3838api.logic import merge_odds_response\n",
    "from ps3838api.logic import filter_odds\n",
    "\n",
    "\n",
    "filter_odds(merge_odds_response(odds_snapshot, odds_delta), event_id=event['eventId'])\n"
   ]
  },
  {
   "cell_type": "code",
   "execution_count": 36,
   "metadata": {},
   "outputs": [],
   "source": [
    "assert isinstance(event, dict)\n",
    "\n",
    "odds_event = filter_odds(odds_snapshot, event_id=event['eventId'])"
   ]
  },
  {
   "cell_type": "code",
   "execution_count": null,
   "metadata": {},
   "outputs": [],
   "source": [
    "from ps3838api.totals import get_best_total_line\n",
    "\n",
    "assert isinstance(odds, dict)\n",
    "\n",
    "total_line = get_best_total_line(odds)\n",
    "total_line"
   ]
  },
  {
   "cell_type": "code",
   "execution_count": 48,
   "metadata": {},
   "outputs": [],
   "source": [
    "import ps3838api.api as ps\n",
    "\n",
    "stake_usdt = 1.0\n",
    "assert isinstance(event, dict)\n",
    "\n",
    "\n",
    "place_bet_response = ps.place_straigh_bet(\n",
    "    stake=stake_usdt,\n",
    "    event_id=event['eventId'],\n",
    "    bet_type='TOTAL_POINTS',\n",
    "    line_id=total_line.get('lineId', None),\n",
    "    alt_line_id=total_line.get('altLineId', None),\n",
    "    side='OVER',\n",
    "    handicap=total_line['points']\n",
    "    \n",
    ")\n",
    "place_bet_response"
   ]
  },
  {
   "cell_type": "code",
   "execution_count": null,
   "metadata": {},
   "outputs": [],
   "source": []
  },
  {
   "cell_type": "markdown",
   "metadata": {},
   "source": [
    "## Live bets"
   ]
  },
  {
   "cell_type": "code",
   "execution_count": 7,
   "metadata": {},
   "outputs": [],
   "source": [
    "live_fixtures = ps.get_fixtures(is_live=True)"
   ]
  },
  {
   "cell_type": "code",
   "execution_count": 8,
   "metadata": {},
   "outputs": [],
   "source": [
    "league = 'England - Premier League'\n",
    "home = 'Brentford'\n",
    "\n",
    "for leagueV3 in live_fixtures['league']:\n",
    "    for fixture in leagueV3['events']:\n",
    "        event: EventInfo = {'eventId': fixture['id'], 'leagueId': leagueV3['id']}\n",
    "        if leagueV3['name'] == league and fixture['home'] == home:\n",
    "            print(leagueV3['name'], fixture['home'], fixture['away'], sep=' | ')\n",
    "            break  # Break the inner loop...\n",
    "    else:\n",
    "        continue  # Continue if the inner loop wasn't broken.\n",
    "    break  # Inner loop was broken, break the outer.\n"
   ]
  },
  {
   "cell_type": "code",
   "execution_count": null,
   "metadata": {},
   "outputs": [],
   "source": [
    "# odds = event_matcher.get_odds(event)\n",
    "# print(type(odds))"
   ]
  },
  {
   "cell_type": "code",
   "execution_count": 25,
   "metadata": {},
   "outputs": [],
   "source": [
    "from ps3838api.models.odds import OddsResponse\n",
    "\n",
    "\n",
    "odds: OddsResponse = {} # type: ignore"
   ]
  },
  {
   "cell_type": "code",
   "execution_count": null,
   "metadata": {},
   "outputs": [],
   "source": [
    "from ps3838api.totals import get_best_total_line\n",
    "\n",
    "odds = ps.get_odds(event_ids=[event['eventId'], ], since=odds.get('last', None))\n",
    "\n",
    "total_line = get_best_total_line(odds['leagues'][0]['events'][0])\n",
    "assert total_line is not None\n",
    "total_line"
   ]
  },
  {
   "cell_type": "code",
   "execution_count": 34,
   "metadata": {},
   "outputs": [],
   "source": [
    "stake_usdt = 1.0"
   ]
  },
  {
   "cell_type": "code",
   "execution_count": null,
   "metadata": {},
   "outputs": [],
   "source": [
    "assert total_line is not None\n",
    "\n",
    "place_bet_response = ps.place_straigh_bet(\n",
    "    stake=stake_usdt,\n",
    "    event_id=event['eventId'],\n",
    "    bet_type='TOTAL_POINTS',\n",
    "    line_id=total_line.get('lineId', None),\n",
    "    alt_line_id=total_line.get('altLineId', None),\n",
    "    side='OVER',\n",
    "    handicap=total_line['points']\n",
    ") \n",
    "place_bet_response"
   ]
  },
  {
   "cell_type": "code",
   "execution_count": 7,
   "metadata": {},
   "outputs": [],
   "source": [
    "bets = ps.get_bets(bet_ids=[3273866035, ])"
   ]
  },
  {
   "cell_type": "code",
   "execution_count": null,
   "metadata": {},
   "outputs": [],
   "source": [
    "bet = bets['straightBets'][0]\n",
    "bet"
   ]
  }
 ],
 "metadata": {
  "kernelspec": {
   "display_name": ".venv",
   "language": "python",
   "name": "python3"
  },
  "language_info": {
   "codemirror_mode": {
    "name": "ipython",
    "version": 3
   },
   "file_extension": ".py",
   "mimetype": "text/x-python",
   "name": "python",
   "nbconvert_exporter": "python",
   "pygments_lexer": "ipython3",
   "version": "3.12.3"
  }
 },
 "nbformat": 4,
 "nbformat_minor": 2
}
